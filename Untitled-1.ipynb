{
 "cells": [
  {
   "cell_type": "code",
   "execution_count": null,
   "metadata": {},
   "outputs": [],
   "source": [
    "import numpy as np\n",
    "from sklearn.linear_model import LinearRegression\n",
    "\n",
    "import matplotlib.pyplot as plt\n",
    "\n",
    "points = np.array([np.array([.122, -.548, .107 ]), np.array([.277, -.534, .103]), np.array([.431, -.516, .102]), np.array([.134, -.108, .068]), np.array([-.146, -.092, 0.067]), np.array([-.157, -.199, .073]), np.array([-.186, .293, 0.084]), np.array([-.219, -.405, .090]), np.array([-.264, -.598, .107]), np.array([-.263, -.595, .108]), np.array([-.054, -.567, .104]), np.array([0.267, -.200, .074,]), np.array([.172, -.261, .084]), np.array([.058, -.349, .092]), np.array([-.170, -.220, .080]), np.array([-.076, -.255, .080]), np.array([.065, -.310, .088]), np.array([.376, -.477, .099]), np.array([.375, -.293, .083]), np.array([.342, -.099, .066])])\n",
    "\n",
    "print(points.shape)\n",
    "\n",
    "X = points[:, :2] \n",
    "y = points[:, 2]\n",
    "\n",
    "\n",
    "reg = LinearRegression().fit(X, y)\n",
    "print(reg.score(X, y))\n",
    "print(reg.coef_)\n",
    "\n",
    "print(reg.predict([[.431, -0.516]]))\n",
    "\n",
    "plt.plot(X[:, 0], y)\n",
    "plt.show()"
   ]
  }
 ],
 "metadata": {
  "language_info": {
   "name": "python"
  }
 },
 "nbformat": 4,
 "nbformat_minor": 2
}
